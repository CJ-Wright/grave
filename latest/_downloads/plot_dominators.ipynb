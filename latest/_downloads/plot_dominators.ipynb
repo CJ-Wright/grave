{
  "cells": [
    {
      "cell_type": "code",
      "execution_count": null,
      "metadata": {
        "collapsed": false
      },
      "outputs": [],
      "source": [
        "%matplotlib inline"
      ]
    },
    {
      "cell_type": "markdown",
      "metadata": {},
      "source": [
        "\nGrave Documentation\n-------------------\n\n\n"
      ]
    },
    {
      "cell_type": "code",
      "execution_count": null,
      "metadata": {
        "collapsed": false
      },
      "outputs": [],
      "source": [
        "import networkx as nx\nfrom networkx.algorithms.approximation.dominating_set import min_weighted_dominating_set\nimport matplotlib.pyplot as plt\n\nfrom grave import plot_network, use_attributes\n\ntoy_network = nx.barbell_graph(10, 14)\ndom_set = min_weighted_dominating_set(toy_network)\n\nfor node, node_attrs in toy_network.nodes(data=True):\n    if node in dom_set:\n        node_attrs['color'] = 'red'\n    else:\n        node_attrs['color'] = 'black'\n    node_attrs['size'] = 50\n\nfig, ax = plt.subplots()\nplot_network(toy_network,\n             node_style=use_attributes())\nplt.show()"
      ]
    }
  ],
  "metadata": {
    "kernelspec": {
      "display_name": "Python 3",
      "language": "python",
      "name": "python3"
    },
    "language_info": {
      "codemirror_mode": {
        "name": "ipython",
        "version": 3
      },
      "file_extension": ".py",
      "mimetype": "text/x-python",
      "name": "python",
      "nbconvert_exporter": "python",
      "pygments_lexer": "ipython3",
      "version": "3.6.3"
    }
  },
  "nbformat": 4,
  "nbformat_minor": 0
}