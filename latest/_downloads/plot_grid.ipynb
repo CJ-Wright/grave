{
  "cells": [
    {
      "cell_type": "code",
      "execution_count": null,
      "metadata": {
        "collapsed": false
      },
      "outputs": [],
      "source": [
        "%matplotlib inline"
      ]
    },
    {
      "cell_type": "markdown",
      "metadata": {},
      "source": [
        "\nLabeled 2D Grid\n---------------\n\nThis example shows both labels and custom layout.\n\n"
      ]
    },
    {
      "cell_type": "code",
      "execution_count": null,
      "metadata": {
        "collapsed": false
      },
      "outputs": [],
      "source": [
        "import networkx as nx\nimport matplotlib.pyplot as plt\nimport random\nfrom grave import plot_network, style_merger\n\n\n\ndef degree_colorer(node_attributes):\n    deg = node_attributes['degree']\n    shape = 'o' #random.choice(['s', 'o', '^', 'v', '8'])\n    return {'color': 'b', 'size': 20*deg, 'shape': shape}\n\ndef font_styler(attributes):\n    return {'font_size': 8,\n            'font_weight': .5,\n            'font_color': 'k'}\n\ndef tiny_font_styler(attributes):\n    return {'font_size': 4,\n            'font_weight': .5,\n            'font_color': 'r'}\n\ndef pathological_edge_style(edge_attrs):\n    return {'color': random.choice(['r', (0, 1, 0, .5), 'xkcd:ocean'])}\n\n\nnetwork = nx.grid_2d_graph(4, 6)\n\nnx.set_node_attributes(network, dict(network.degree()), 'degree')\n\nfig, ax = plt.subplots()\nplot_network(network, ax=ax, layout=lambda G: {node: node for node in G},\n             node_style=degree_colorer,\n             edge_style=pathological_edge_style,\n             node_label_style=font_styler,\n             edge_label_style=tiny_font_styler)\n\nplt.show()"
      ]
    }
  ],
  "metadata": {
    "kernelspec": {
      "display_name": "Python 3",
      "language": "python",
      "name": "python3"
    },
    "language_info": {
      "codemirror_mode": {
        "name": "ipython",
        "version": 3
      },
      "file_extension": ".py",
      "mimetype": "text/x-python",
      "name": "python",
      "nbconvert_exporter": "python",
      "pygments_lexer": "ipython3",
      "version": "3.6.3"
    }
  },
  "nbformat": 4,
  "nbformat_minor": 0
}