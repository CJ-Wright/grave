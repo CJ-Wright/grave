{
  "cells": [
    {
      "cell_type": "code",
      "execution_count": null,
      "metadata": {
        "collapsed": false
      },
      "outputs": [],
      "source": [
        "%matplotlib inline"
      ]
    },
    {
      "cell_type": "markdown",
      "metadata": {},
      "source": [
        "\nInteractively highlight nodes and edges\n---------------------------------------\n\nRun this with an interactive matplotlib backend!\n\nClicking on a node will hi-light it and it's edges\n\n"
      ]
    },
    {
      "cell_type": "code",
      "execution_count": null,
      "metadata": {
        "collapsed": false
      },
      "outputs": [],
      "source": [
        "import networkx as nx\nimport matplotlib.pyplot as plt\nfrom grave import plot_network\nfrom grave.style import use_attributes\n\n\ndef hilighter(event):\n    # if we did not hit a node, bail\n    if not hasattr(event, 'nodes') or not event.nodes:\n        return\n\n    # pull out the graph,\n    graph = event.artist.graph\n\n    # clear any non-default color on nodes\n    for node, attributes in graph.nodes.data():\n        attributes.pop('color', None)\n\n    for u, v, attributes in graph.edges.data():\n        attributes.pop('width', None)\n\n    for node in event.nodes:\n        graph.nodes[node]['color'] = 'C1'\n\n        for edge_attribute in graph[node].values():\n            edge_attribute['width'] = 3\n\n    # update the screen\n    event.artist.stale = True\n    event.artist.figure.canvas.draw_idle()\n\n\ngraph = nx.barbell_graph(10, 14)\n\nfig, ax = plt.subplots()\nart = plot_network(graph, ax=ax, node_style=use_attributes(),\n                   edge_style=use_attributes())\n\nart.set_picker(10)\nax.set_title('Click on the nodes!')\nfig.canvas.mpl_connect('pick_event', hilighter)\nplt.show()"
      ]
    }
  ],
  "metadata": {
    "kernelspec": {
      "display_name": "Python 3",
      "language": "python",
      "name": "python3"
    },
    "language_info": {
      "codemirror_mode": {
        "name": "ipython",
        "version": 3
      },
      "file_extension": ".py",
      "mimetype": "text/x-python",
      "name": "python",
      "nbconvert_exporter": "python",
      "pygments_lexer": "ipython3",
      "version": "3.6.3"
    }
  },
  "nbformat": 4,
  "nbformat_minor": 0
}