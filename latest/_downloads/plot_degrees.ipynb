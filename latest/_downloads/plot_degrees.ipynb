{
  "cells": [
    {
      "cell_type": "code",
      "execution_count": null,
      "metadata": {
        "collapsed": false
      },
      "outputs": [],
      "source": [
        "%matplotlib inline"
      ]
    },
    {
      "cell_type": "markdown",
      "metadata": {},
      "source": [
        "\nColoring the degrees of a node\n-------------------------------\n\nTest\n\n"
      ]
    },
    {
      "cell_type": "code",
      "execution_count": null,
      "metadata": {
        "collapsed": false
      },
      "outputs": [],
      "source": [
        "import networkx as nx\nimport matplotlib.pyplot as plt\nimport random\nfrom grave import plot_network\n\n\ngraph = nx.barbell_graph(10, 14)\n\nnx.set_node_attributes(graph, dict(graph.degree()), 'degree')\n\n\ndef degree_colorer(node_attributes):\n    deg = node_attributes['degree']\n    shape = random.choice(['s', 'o', '^', 'v', '8'])\n    if deg > 5:\n        return {'color': 'r', 'size': 20*deg, 'shape': shape}\n    return {'color': 'b', 'size': 20*deg, 'shape': shape}\n\n\ndef pathological_edge_style(edge_attrs):\n    return {'color': random.choice(['r', (0, 1, 0, .5), 'xkcd:ocean'])}\n\n\nfig, ax = plt.subplots()\nplot_network(graph, ax=ax, node_style=degree_colorer,\n             edge_style=pathological_edge_style)\nplt.show()"
      ]
    }
  ],
  "metadata": {
    "kernelspec": {
      "display_name": "Python 3",
      "language": "python",
      "name": "python3"
    },
    "language_info": {
      "codemirror_mode": {
        "name": "ipython",
        "version": 3
      },
      "file_extension": ".py",
      "mimetype": "text/x-python",
      "name": "python",
      "nbconvert_exporter": "python",
      "pygments_lexer": "ipython3",
      "version": "3.6.3"
    }
  },
  "nbformat": 4,
  "nbformat_minor": 0
}