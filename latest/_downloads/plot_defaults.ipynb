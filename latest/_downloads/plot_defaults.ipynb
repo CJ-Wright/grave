{
  "cells": [
    {
      "cell_type": "code",
      "execution_count": null,
      "metadata": {
        "collapsed": false
      },
      "outputs": [],
      "source": [
        "%matplotlib inline"
      ]
    },
    {
      "cell_type": "markdown",
      "metadata": {},
      "source": [
        "\nUsing another style\n===================\n\nIn this example, we show how to use another default Matplotlib style.\n\n"
      ]
    },
    {
      "cell_type": "code",
      "execution_count": null,
      "metadata": {
        "collapsed": false
      },
      "outputs": [],
      "source": [
        "import networkx as nx\nimport matplotlib.pyplot as plt\nfrom grave import plot_network\n\nnetwork = nx.binomial_graph(50, .05)\n\nfig, ax_mat = plt.subplots(ncols=2)\n\nplot_network(network, ax=ax_mat[0])\nax_mat[0].set_axis_on()\nwith plt.style.context(('ggplot')):\n    plot_network(network, ax=ax_mat[1])\n\nax_mat[1].set_axis_on()\nfor ax in ax_mat:\n    ax.set_axis_on()\n    ax.tick_params(which='both',\n                   bottom=False,\n                   top=False,\n                   left=False,\n                   right=False,\n                   labelbottom=False,\n                   labelleft=False)\nplt.show()"
      ]
    }
  ],
  "metadata": {
    "kernelspec": {
      "display_name": "Python 3",
      "language": "python",
      "name": "python3"
    },
    "language_info": {
      "codemirror_mode": {
        "name": "ipython",
        "version": 3
      },
      "file_extension": ".py",
      "mimetype": "text/x-python",
      "name": "python",
      "nbconvert_exporter": "python",
      "pygments_lexer": "ipython3",
      "version": "3.6.3"
    }
  },
  "nbformat": 4,
  "nbformat_minor": 0
}