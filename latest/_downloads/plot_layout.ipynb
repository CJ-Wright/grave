{
  "cells": [
    {
      "cell_type": "code",
      "execution_count": null,
      "metadata": {
        "collapsed": false
      },
      "outputs": [],
      "source": [
        "%matplotlib inline"
      ]
    },
    {
      "cell_type": "markdown",
      "metadata": {},
      "source": [
        "\nDifferent layouts\n=================\n\nGrave supports different layouts by default.\n\n"
      ]
    },
    {
      "cell_type": "code",
      "execution_count": null,
      "metadata": {
        "collapsed": false
      },
      "outputs": [],
      "source": [
        "import networkx as nx\nimport matplotlib.pyplot as plt\nfrom grave import grave\n\n\ngraph = nx.barbell_graph(10, 14)\nnx.set_node_attributes(graph, dict(graph.degree()), 'degree')\n\nfig, axes = plt.subplots(nrows=2, ncols=2)\n\ngrave.plot_network(graph, ax=axes[0, 0], layout=\"spring\")\naxes[0, 0].set_title(\"spring\", fontweight=\"bold\")\n\ngrave.plot_network(graph, ax=axes[1, 0], layout=\"circular\")\naxes[1, 0].set_title(\"circular\", fontweight=\"bold\")\n\ngrave.plot_network(graph, ax=axes[0, 1], layout=\"random\")\naxes[0, 1].set_title(\"random\", fontweight=\"bold\")\n\ngrave.plot_network(graph, ax=axes[1, 1], layout=\"spectral\")\naxes[1, 1].set_title(\"spectral\", fontweight=\"bold\")\n\nplt.show()"
      ]
    }
  ],
  "metadata": {
    "kernelspec": {
      "display_name": "Python 3",
      "language": "python",
      "name": "python3"
    },
    "language_info": {
      "codemirror_mode": {
        "name": "ipython",
        "version": 3
      },
      "file_extension": ".py",
      "mimetype": "text/x-python",
      "name": "python",
      "nbconvert_exporter": "python",
      "pygments_lexer": "ipython3",
      "version": "3.6.3"
    }
  },
  "nbformat": 4,
  "nbformat_minor": 0
}