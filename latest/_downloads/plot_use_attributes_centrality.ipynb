{
  "cells": [
    {
      "cell_type": "code",
      "execution_count": null,
      "metadata": {
        "collapsed": false
      },
      "outputs": [],
      "source": [
        "%matplotlib inline"
      ]
    },
    {
      "cell_type": "markdown",
      "metadata": {},
      "source": [
        "\nGrave Documentation\n-------------------\n\n\n"
      ]
    },
    {
      "cell_type": "code",
      "execution_count": null,
      "metadata": {
        "collapsed": false
      },
      "outputs": [],
      "source": [
        "import networkx as nx\nfrom networkx.algorithms.centrality import closeness_centrality\nimport matplotlib.pyplot as plt\n\nfrom grave import plot_network, use_attributes\n\ntoy_network = nx.barbell_graph(10, 14)\ntoy_centrality = closeness_centrality(toy_network)\nmax_centrality = max(toy_centrality.values())\n\nfor u, v, edge_attributes in toy_network.edges.data():\n    c = (toy_centrality[u] +\n         toy_centrality[v]) / 2\n    color_idx = (c / max_centrality)\n    cmap = plt.get_cmap()\n    edge_attributes['color'] = cmap(color_idx)\n    edge_attributes['width'] = 2\n\nfor node, node_attributes in toy_network.nodes.data():\n    node_attributes['size'] = (1 - (toy_centrality[node] / \n                                max_centrality) + .1) * 100\n\n\ndef edge_style(edge_attributes):\n    return {'linewidth': edge_attributes.get('weight', 1)}\n\nfig, ax = plt.subplots()\nplot_network(toy_network,\n             layout='spring',\n             node_style=use_attributes(),\n             edge_style=use_attributes('color'))\nplt.show()"
      ]
    }
  ],
  "metadata": {
    "kernelspec": {
      "display_name": "Python 3",
      "language": "python",
      "name": "python3"
    },
    "language_info": {
      "codemirror_mode": {
        "name": "ipython",
        "version": 3
      },
      "file_extension": ".py",
      "mimetype": "text/x-python",
      "name": "python",
      "nbconvert_exporter": "python",
      "pygments_lexer": "ipython3",
      "version": "3.6.3"
    }
  },
  "nbformat": 4,
  "nbformat_minor": 0
}